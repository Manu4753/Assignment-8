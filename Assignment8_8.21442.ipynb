{
 "cells": [
  {
   "cell_type": "markdown",
   "metadata": {},
   "source": [
    "Read the following data set: https://archive.ics.uci.edu/ml/machine-learning-databases/adult/adult.data\n",
    "        \n",
    "       1. Create an sqlalchemy engine using a sample from the data set"
   ]
  },
  {
   "cell_type": "code",
   "execution_count": 1,
   "metadata": {},
   "outputs": [],
   "source": [
    "import pandas as pd\n",
    "import sqlalchemy as sqy\n",
    "from sqlalchemy import  create_engine,Column,Integer,String,Float\n",
    "from sqlalchemy.ext.declarative import declarative_base\n",
    "from sqlalchemy.orm import sessionmaker"
   ]
  },
  {
   "cell_type": "code",
   "execution_count": 2,
   "metadata": {},
   "outputs": [],
   "source": [
    "df = pd.read_csv('https://archive.ics.uci.edu/ml/machine-learning-databases/adult/adult.data')"
   ]
  },
  {
   "cell_type": "code",
   "execution_count": 3,
   "metadata": {},
   "outputs": [],
   "source": [
    "ColumnNames= ['age','workclass','fnlwgt','education','educationNum','maritalStatus','occupation','relationship','race','sex','capitalGain','capitalLoss','hoursperweek','nativeCountry','salperyear']\n",
    "df.columns = ColumnNames"
   ]
  },
  {
   "cell_type": "code",
   "execution_count": 4,
   "metadata": {},
   "outputs": [
    {
     "name": "stdout",
     "output_type": "stream",
     "text": [
      "1.2.15\n"
     ]
    }
   ],
   "source": [
    "# Creating a sqlalchemy engine\n",
    "engine = create_engine('sqlite:///:memory:', echo=False)\n",
    "print(sqy.__version__)"
   ]
  },
  {
   "cell_type": "code",
   "execution_count": 5,
   "metadata": {},
   "outputs": [],
   "source": [
    "# Constructing the Base Class from declarative to create table from it \n",
    "Base = declarative_base()"
   ]
  },
  {
   "cell_type": "code",
   "execution_count": 6,
   "metadata": {},
   "outputs": [],
   "source": [
    "class Adult(Base):\n",
    "    __tablename__ = 'adult'\n",
    "\n",
    "    id = Column(Integer, primary_key=True)\n",
    "    age = Column(Integer)\n",
    "    workclass = Column(String)\n",
    "    fnlwgt = Column(Integer)\n",
    "    education = Column(String)\n",
    "    educationNum = Column(Integer)\n",
    "    maritalStatus = Column(String)\n",
    "    occupation = Column(String)\n",
    "    relationship = Column(String)\n",
    "    race = Column(String)\n",
    "    sex = Column(String)\n",
    "    capitalGain = Column(Integer)\n",
    "    capitalLoss = Column(Integer)\n",
    "    hoursperweek = Column(Integer)\n",
    "    nativeCountry = Column(String)\n",
    "    salperyear = Column(String)"
   ]
  },
  {
   "cell_type": "code",
   "execution_count": 7,
   "metadata": {},
   "outputs": [],
   "source": [
    "def __repr__(self):\n",
    "        return \"<Adult(age='%d', workclass='%s', fnlwgt='%d',education='%s', educationNum='%d',maritalStatus ='%s',occupation ='%s',relationship ='%s',race ='%s',sex ='%s',capitalGain ='%d',capitalLoss ='%d',hoursperweek ='%d',nativeCountry ='%s',salperyear ='%s')>\" %(\n",
    "    self.age, self.workclass,self.fnlwgt,self.education,self.educationNum,self.maritalStatus,self.occupation,self.relationship,self.race,self.sex,self.capitalGain,self.capitalLoss,self.hoursperweek,self.nativeCountry,self.salperyear)"
   ]
  },
  {
   "cell_type": "code",
   "execution_count": 8,
   "metadata": {},
   "outputs": [
    {
     "name": "stdout",
     "output_type": "stream",
     "text": [
      "Following are the records from the adult table in memory retrieved and printed :\n",
      " --------------------------------------------------------------------------------\n",
      "<__main__.Adult object at 0x000001830FD63048>\n",
      "--------------------------------------------------------------------------------\n",
      "<__main__.Adult object at 0x000001830FD630F0>\n",
      "--------------------------------------------------------------------------------\n",
      "<__main__.Adult object at 0x000001830FD63198>\n",
      "--------------------------------------------------------------------------------\n",
      "<__main__.Adult object at 0x000001830FD63240>\n",
      "--------------------------------------------------------------------------------\n",
      "<__main__.Adult object at 0x000001830FEFDBE0>\n",
      "--------------------------------------------------------------------------------\n"
     ]
    }
   ],
   "source": [
    "# creating the Table in the Engine, i.e memory\n",
    "Base.metadata.create_all(engine)\n",
    "\n",
    "#binding the engine to the session \n",
    "SessionMaker = sessionmaker(bind=engine)\n",
    "\n",
    "session = SessionMaker()\n",
    "\n",
    "# adding the data in the session , by first converting first 5 records to dictionary and then accessing individiuallyusing addall to add multiple rows \n",
    "\n",
    "dict1 = (df.head().to_dict('index'))\n",
    "for x in dict1.values():\n",
    "    temp = Adult(**x)\n",
    "    session.add(temp)\n",
    "    \n",
    "# Commit flushes all the new data in session to the Database in memmory \n",
    "session.commit()\n",
    "    \n",
    "print(\"Following are the records from the adult table in memory retrieved and printed :\\n\",'-'*80)    \n",
    "# now retrieving the records from the session through query and printing \n",
    "for row in session.query(Adult).all():\n",
    "    print(row)\n",
    "    print('-'*80)"
   ]
  },
  {
   "cell_type": "markdown",
   "metadata": {},
   "source": [
    "2. Write two basic update queries"
   ]
  },
  {
   "cell_type": "code",
   "execution_count": 9,
   "metadata": {},
   "outputs": [
    {
     "name": "stdout",
     "output_type": "stream",
     "text": [
      "Records having  50 years aged  \n",
      " --------------------------------------------------------------------------------\n",
      "<__main__.Adult object at 0x000001830FD63668>\n",
      "--------------------------------------------------------------------------------\n",
      "After Updating hoursperweek to 20 and fetching records from DB \n",
      " --------------------------------------------------------------------------------\n",
      "<__main__.Adult object at 0x000001830FD63668>\n",
      "--------------------------------------------------------------------------------\n"
     ]
    }
   ],
   "source": [
    "print(\"Records having  50 years aged  \\n\",'-'*80)\n",
    "for adt in session.query(Adult).filter(Adult.age == 50):\n",
    "    print(adt)\n",
    "    print('-'*80)\n",
    "   \n",
    "# Updating The Hoursperweek for 50 years old\n",
    "session.query(Adult).filter(Adult.age == 50).update({'hoursperweek' : 20})\n",
    "session.commit()\n",
    "\n",
    "print(\"After Updating hoursperweek to 20 and fetching records from DB \\n\",'-'*80)\n",
    "for adt in session.query(Adult).filter(Adult.age == 50):\n",
    "    print(adt)\n",
    "    print('-'*80)"
   ]
  },
  {
   "cell_type": "code",
   "execution_count": 10,
   "metadata": {},
   "outputs": [
    {
     "name": "stdout",
     "output_type": "stream",
     "text": [
      "Checking if record exists where workclass is not Private \n",
      " --------------------------------------------------------------------------------\n",
      "<__main__.Adult object at 0x000001830FD63668>\n",
      "--------------------------------------------------------------------------------\n",
      "After Updating Workclass to Private and fetching from DB \n",
      " --------------------------------------------------------------------------------\n",
      "<__main__.Adult object at 0x000001830FD63668>\n",
      "--------------------------------------------------------------------------------\n",
      "<__main__.Adult object at 0x0000018310080128>\n",
      "--------------------------------------------------------------------------------\n",
      "<__main__.Adult object at 0x0000018310080198>\n",
      "--------------------------------------------------------------------------------\n",
      "<__main__.Adult object at 0x0000018310080208>\n",
      "--------------------------------------------------------------------------------\n",
      "<__main__.Adult object at 0x000001830FEFDBE0>\n",
      "--------------------------------------------------------------------------------\n"
     ]
    }
   ],
   "source": [
    "print(\"Checking if record exists where workclass is not Private \\n\",'-'*80)\n",
    "for adt in session.query(Adult).filter(Adult.workclass != ' Private'):\n",
    "    print(adt)\n",
    "    print('-'*80)\n",
    "    \n",
    "session.query(Adult).filter(Adult.workclass != ' Private').update({'workclass' : ' Private'})\n",
    "session.commit()\n",
    "\n",
    "print(\"After Updating Workclass to Private and fetching from DB \\n\",'-'*80)\n",
    "for adt in session.query(Adult).all():\n",
    "    print(adt)\n",
    "    print('-'*80)"
   ]
  },
  {
   "cell_type": "markdown",
   "metadata": {},
   "source": [
    "3.Write two delete queries"
   ]
  },
  {
   "cell_type": "code",
   "execution_count": 11,
   "metadata": {},
   "outputs": [
    {
     "name": "stdout",
     "output_type": "stream",
     "text": [
      "Checking if record exists where workclass is not Private \n",
      " --------------------------------------------------------------------------------\n",
      "After Deleting and fetching from DB , check if  record now exists \n",
      " --------------------------------------------------------------------------------\n",
      "<__main__.Adult object at 0x000001830FD4FD30>\n",
      "--------------------------------------------------------------------------------\n",
      "<__main__.Adult object at 0x0000018310083080>\n",
      "--------------------------------------------------------------------------------\n",
      "<__main__.Adult object at 0x00000183100830F0>\n",
      "--------------------------------------------------------------------------------\n",
      "<__main__.Adult object at 0x0000018310083160>\n",
      "--------------------------------------------------------------------------------\n",
      "<__main__.Adult object at 0x000001830FEFDBE0>\n",
      "--------------------------------------------------------------------------------\n"
     ]
    }
   ],
   "source": [
    "print(\"Checking if record exists where workclass is not Private \\n\",'-'*80)\n",
    "for adt in session.query(Adult).filter(Adult.workclass != ' Private'):\n",
    "    print(adt)\n",
    "    print('-'*80)\n",
    "    \n",
    "session.query(Adult).filter(Adult.workclass != ' Private').delete()\n",
    "session.commit()\n",
    "\n",
    "print(\"After Deleting and fetching from DB , check if  record now exists \\n\",'-'*80)\n",
    "for adt in session.query(Adult).all():\n",
    "    print(adt)\n",
    "    print('-'*80)"
   ]
  },
  {
   "cell_type": "code",
   "execution_count": 12,
   "metadata": {},
   "outputs": [
    {
     "name": "stdout",
     "output_type": "stream",
     "text": [
      "Checking if record exists where education Number is other than 13 \n",
      " --------------------------------------------------------------------------------\n",
      "<__main__.Adult object at 0x00000183100801D0>\n",
      "--------------------------------------------------------------------------------\n",
      "<__main__.Adult object at 0x0000018310080240>\n",
      "--------------------------------------------------------------------------------\n",
      "After Deleting the record , fetching from DB , if filtered record exists \n",
      " --------------------------------------------------------------------------------\n",
      "<__main__.Adult object at 0x0000018310080400>\n",
      "--------------------------------------------------------------------------------\n",
      "<__main__.Adult object at 0x0000018310080470>\n",
      "--------------------------------------------------------------------------------\n",
      "<__main__.Adult object at 0x000001830FEFDBE0>\n",
      "--------------------------------------------------------------------------------\n"
     ]
    }
   ],
   "source": [
    "print(\"Checking if record exists where education Number is other than 13 \\n\",'-'*80)\n",
    "for adt in session.query(Adult).filter(Adult.educationNum == 13).all():\n",
    "    print(adt)\n",
    "    print('-'*80)\n",
    "    \n",
    "session.query(Adult).filter(Adult.educationNum == 13).delete()\n",
    "session.commit()\n",
    "\n",
    "print(\"After Deleting the record , fetching from DB , if filtered record exists \\n\",'-'*80)\n",
    "for adt in session.query(Adult).all():\n",
    "    print(adt)\n",
    "    print('-'*80)"
   ]
  },
  {
   "cell_type": "markdown",
   "metadata": {},
   "source": [
    "4. Write two filter queries"
   ]
  },
  {
   "cell_type": "code",
   "execution_count": 13,
   "metadata": {},
   "outputs": [
    {
     "name": "stdout",
     "output_type": "stream",
     "text": [
      "To See those who have studied till masters  \n",
      " --------------------------------------------------------------------------------\n",
      "<__main__.Adult object at 0x000001830FEFDBE0>\n",
      "--------------------------------------------------------------------------------\n"
     ]
    }
   ],
   "source": [
    "print(\"To See those who have studied till masters  \\n\",'-'*80)\n",
    "for adt in session.query(Adult).filter(Adult.education.like('%Masters%')):\n",
    "    print(adt)\n",
    "    print('-'*80)"
   ]
  },
  {
   "cell_type": "code",
   "execution_count": 14,
   "metadata": {},
   "outputs": [
    {
     "name": "stdout",
     "output_type": "stream",
     "text": [
      "To See how many people have studied masters \n",
      " --------------------------------------------------------------------------------\n",
      "1\n",
      "--------------------------------------------------------------------------------\n"
     ]
    }
   ],
   "source": [
    "print(\"To See how many people have studied masters \\n\",'-'*80)\n",
    "#print(session.query(Adult).filter(Adult.nativeCountry.like('%United-States%')).group_by(Adult.sex).count(Adult.sex))\n",
    "print(session.query(Adult).filter(Adult.education.like('%Masters%')).count())\n",
    "print('-'*80)"
   ]
  },
  {
   "cell_type": "markdown",
   "metadata": {},
   "source": [
    "5. Write two function queries"
   ]
  },
  {
   "cell_type": "code",
   "execution_count": 15,
   "metadata": {},
   "outputs": [
    {
     "name": "stdout",
     "output_type": "stream",
     "text": [
      "To show the gender distribution for country  \n",
      " --------------------------------------------------------------------------------\n",
      "[(' United-States', ' Female', 1), (' United-States', ' Male', 2)]\n",
      "--------------------------------------------------------------------------------\n"
     ]
    }
   ],
   "source": [
    "from sqlalchemy import func\n",
    "print(\"To show the gender distribution for country  \\n\",'-'*80)\n",
    "print(session.query(Adult.nativeCountry,Adult.sex,func.count('*')).group_by(Adult.nativeCountry,Adult.sex).all())\n",
    "print('-'*80)"
   ]
  },
  {
   "cell_type": "code",
   "execution_count": 16,
   "metadata": {},
   "outputs": [
    {
     "name": "stdout",
     "output_type": "stream",
     "text": [
      "To See how many people are married \n",
      " --------------------------------------------------------------------------------\n",
      "[(' Divorced', 1), (' Married-civ-spouse', 2)]\n",
      "--------------------------------------------------------------------------------\n"
     ]
    }
   ],
   "source": [
    "print(\"To See how many people are married \\n\",'-'*80)\n",
    "print(session.query(Adult.maritalStatus,func.count('*')).group_by(Adult.maritalStatus).all())\n",
    "print('-'*80)"
   ]
  },
  {
   "cell_type": "code",
   "execution_count": null,
   "metadata": {},
   "outputs": [],
   "source": []
  },
  {
   "cell_type": "code",
   "execution_count": null,
   "metadata": {},
   "outputs": [],
   "source": []
  }
 ],
 "metadata": {
  "kernelspec": {
   "display_name": "Python 3",
   "language": "python",
   "name": "python3"
  },
  "language_info": {
   "codemirror_mode": {
    "name": "ipython",
    "version": 3
   },
   "file_extension": ".py",
   "mimetype": "text/x-python",
   "name": "python",
   "nbconvert_exporter": "python",
   "pygments_lexer": "ipython3",
   "version": "3.7.1"
  }
 },
 "nbformat": 4,
 "nbformat_minor": 2
}
